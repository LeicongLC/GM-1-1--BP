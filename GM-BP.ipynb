{
 "cells": [
  {
   "cell_type": "code",
   "execution_count": 79,
   "id": "initial_id",
   "metadata": {
    "collapsed": true,
    "ExecuteTime": {
     "end_time": "2024-03-22T11:43:41.638477400Z",
     "start_time": "2024-03-22T11:43:41.610471300Z"
    }
   },
   "outputs": [
    {
     "data": {
      "text/plain": "   year     X1     X2    X3     X4      X5     X6          Y\n0  1970  36.46  11.35  5.72  85.07  105.90  25.95  822534450\n1  1971  34.95  10.63  5.43  80.70  105.82  23.40  843285424\n2  1972  33.44   9.90  5.14  76.32  105.78  22.27  862840403\n3  1973  31.93   9.18  4.85  71.95  105.86  20.99  881652080\n4  1974  30.04   8.77  4.48  68.56  105.88  17.57  899367640",
      "text/html": "<div>\n<style scoped>\n    .dataframe tbody tr th:only-of-type {\n        vertical-align: middle;\n    }\n\n    .dataframe tbody tr th {\n        vertical-align: top;\n    }\n\n    .dataframe thead th {\n        text-align: right;\n    }\n</style>\n<table border=\"1\" class=\"dataframe\">\n  <thead>\n    <tr style=\"text-align: right;\">\n      <th></th>\n      <th>year</th>\n      <th>X1</th>\n      <th>X2</th>\n      <th>X3</th>\n      <th>X4</th>\n      <th>X5</th>\n      <th>X6</th>\n      <th>Y</th>\n    </tr>\n  </thead>\n  <tbody>\n    <tr>\n      <th>0</th>\n      <td>1970</td>\n      <td>36.46</td>\n      <td>11.35</td>\n      <td>5.72</td>\n      <td>85.07</td>\n      <td>105.90</td>\n      <td>25.95</td>\n      <td>822534450</td>\n    </tr>\n    <tr>\n      <th>1</th>\n      <td>1971</td>\n      <td>34.95</td>\n      <td>10.63</td>\n      <td>5.43</td>\n      <td>80.70</td>\n      <td>105.82</td>\n      <td>23.40</td>\n      <td>843285424</td>\n    </tr>\n    <tr>\n      <th>2</th>\n      <td>1972</td>\n      <td>33.44</td>\n      <td>9.90</td>\n      <td>5.14</td>\n      <td>76.32</td>\n      <td>105.78</td>\n      <td>22.27</td>\n      <td>862840403</td>\n    </tr>\n    <tr>\n      <th>3</th>\n      <td>1973</td>\n      <td>31.93</td>\n      <td>9.18</td>\n      <td>4.85</td>\n      <td>71.95</td>\n      <td>105.86</td>\n      <td>20.99</td>\n      <td>881652080</td>\n    </tr>\n    <tr>\n      <th>4</th>\n      <td>1974</td>\n      <td>30.04</td>\n      <td>8.77</td>\n      <td>4.48</td>\n      <td>68.56</td>\n      <td>105.88</td>\n      <td>17.57</td>\n      <td>899367640</td>\n    </tr>\n  </tbody>\n</table>\n</div>"
     },
     "execution_count": 79,
     "metadata": {},
     "output_type": "execute_result"
    }
   ],
   "source": [
    "import pandas as pd\n",
    "\n",
    "# 加载数据集\n",
    "data_path = './data.csv'\n",
    "data = pd.read_csv(data_path)\n",
    "\n",
    "# 预览数据集的前几行\n",
    "data.head()"
   ]
  },
  {
   "cell_type": "markdown",
   "source": [
    "数据预处理"
   ],
   "metadata": {
    "collapsed": false
   },
   "id": "3fcae58bcef54f21"
  },
  {
   "cell_type": "code",
   "execution_count": 80,
   "outputs": [
    {
     "data": {
      "text/plain": "         X1        X2        X3        X4        X5        X6\n0  2.614841  4.058772  3.014202  2.416204  0.280653  2.774237\n1  2.390421  3.355718  2.750118  2.194172  0.181483  2.309091\n2  2.166000  2.642899  2.486034  1.971632  0.131897  2.102968\n3  1.941580  1.939844  2.221949  1.749600  0.231068  1.869483\n4  1.660682  1.539494  1.885015  1.577360  0.255861  1.245641",
      "text/html": "<div>\n<style scoped>\n    .dataframe tbody tr th:only-of-type {\n        vertical-align: middle;\n    }\n\n    .dataframe tbody tr th {\n        vertical-align: top;\n    }\n\n    .dataframe thead th {\n        text-align: right;\n    }\n</style>\n<table border=\"1\" class=\"dataframe\">\n  <thead>\n    <tr style=\"text-align: right;\">\n      <th></th>\n      <th>X1</th>\n      <th>X2</th>\n      <th>X3</th>\n      <th>X4</th>\n      <th>X5</th>\n      <th>X6</th>\n    </tr>\n  </thead>\n  <tbody>\n    <tr>\n      <th>0</th>\n      <td>2.614841</td>\n      <td>4.058772</td>\n      <td>3.014202</td>\n      <td>2.416204</td>\n      <td>0.280653</td>\n      <td>2.774237</td>\n    </tr>\n    <tr>\n      <th>1</th>\n      <td>2.390421</td>\n      <td>3.355718</td>\n      <td>2.750118</td>\n      <td>2.194172</td>\n      <td>0.181483</td>\n      <td>2.309091</td>\n    </tr>\n    <tr>\n      <th>2</th>\n      <td>2.166000</td>\n      <td>2.642899</td>\n      <td>2.486034</td>\n      <td>1.971632</td>\n      <td>0.131897</td>\n      <td>2.102968</td>\n    </tr>\n    <tr>\n      <th>3</th>\n      <td>1.941580</td>\n      <td>1.939844</td>\n      <td>2.221949</td>\n      <td>1.749600</td>\n      <td>0.231068</td>\n      <td>1.869483</td>\n    </tr>\n    <tr>\n      <th>4</th>\n      <td>1.660682</td>\n      <td>1.539494</td>\n      <td>1.885015</td>\n      <td>1.577360</td>\n      <td>0.255861</td>\n      <td>1.245641</td>\n    </tr>\n  </tbody>\n</table>\n</div>"
     },
     "execution_count": 80,
     "metadata": {},
     "output_type": "execute_result"
    }
   ],
   "source": [
    "from sklearn.preprocessing import StandardScaler\n",
    "\n",
    "# 移除年份列\n",
    "features = data.drop(['year', 'Y'], axis=1)\n",
    "\n",
    "# 初始化标准化器\n",
    "scaler = StandardScaler()\n",
    "\n",
    "# 对特征进行标准化\n",
    "features_standardized = scaler.fit_transform(features)\n",
    "\n",
    "# 创建一个新的DataFrame来存储标准化后的数据\n",
    "features_standardized_df = pd.DataFrame(features_standardized, columns=features.columns)\n",
    "\n",
    "# 预览标准化后的数据集的前几行\n",
    "features_standardized_df.head()"
   ],
   "metadata": {
    "collapsed": false,
    "ExecuteTime": {
     "end_time": "2024-03-22T11:43:43.158925800Z",
     "start_time": "2024-03-22T11:43:43.129977200Z"
    }
   },
   "id": "cd37c142f4e11b49"
  },
  {
   "cell_type": "code",
   "execution_count": 81,
   "outputs": [],
   "source": [
    "from sklearn.model_selection import train_test_split\n",
    "\n",
    "Y = data['Y']\n",
    "\n",
    "# 标准化Y\n",
    "scaler_Y = StandardScaler()\n",
    "Y_scaled = scaler_Y.fit_transform(Y.values.reshape(-1, 1))\n",
    "\n",
    "# 使用train_test_split函数划分数据集\n",
    "X_train, X_test, y_train, y_test = train_test_split(features_standardized_df, Y_scaled, test_size=0.3, random_state=42)"
   ],
   "metadata": {
    "collapsed": false,
    "ExecuteTime": {
     "end_time": "2024-03-22T11:43:43.936801200Z",
     "start_time": "2024-03-22T11:43:43.922799600Z"
    }
   },
   "id": "3346d81eede15f89"
  },
  {
   "cell_type": "markdown",
   "source": [
    "构建BP模型"
   ],
   "metadata": {
    "collapsed": false
   },
   "id": "485fbc8262e614f1"
  },
  {
   "cell_type": "code",
   "execution_count": 82,
   "outputs": [
    {
     "name": "stdout",
     "output_type": "stream",
     "text": [
      "Epoch 1, Loss: 1.0341227054595947\n",
      "Epoch 2, Loss: 0.9985990524291992\n",
      "Epoch 3, Loss: 0.7279334664344788\n",
      "Epoch 4, Loss: 0.17033879458904266\n",
      "Epoch 5, Loss: 3.5646848678588867\n",
      "Epoch 6, Loss: 0.11798954010009766\n",
      "Epoch 7, Loss: 0.3347916603088379\n",
      "Epoch 8, Loss: 0.5796469449996948\n",
      "Epoch 9, Loss: 0.6919130682945251\n",
      "Epoch 10, Loss: 0.7425768971443176\n",
      "Epoch 11, Loss: 0.7642415165901184\n",
      "Epoch 12, Loss: 0.759555459022522\n",
      "Epoch 13, Loss: 0.7318069934844971\n",
      "Epoch 14, Loss: 0.6875107884407043\n",
      "Epoch 15, Loss: 0.633464515209198\n",
      "Epoch 16, Loss: 0.5792434811592102\n",
      "Epoch 17, Loss: 0.5299844741821289\n",
      "Epoch 18, Loss: 0.5171228647232056\n",
      "Epoch 19, Loss: 0.5425412058830261\n",
      "Epoch 20, Loss: 0.5152336359024048\n",
      "Epoch 21, Loss: 0.4769963324069977\n",
      "Epoch 22, Loss: 0.5026884078979492\n",
      "Epoch 23, Loss: 0.44910064339637756\n",
      "Epoch 24, Loss: 0.42678770422935486\n",
      "Epoch 25, Loss: 0.41901347041130066\n",
      "Epoch 26, Loss: 0.38700252771377563\n",
      "Epoch 27, Loss: 0.3482220470905304\n",
      "Epoch 28, Loss: 0.326332688331604\n",
      "Epoch 29, Loss: 0.2885165810585022\n",
      "Epoch 30, Loss: 0.22463010251522064\n",
      "Epoch 31, Loss: 0.16146773099899292\n",
      "Epoch 32, Loss: 0.09974777698516846\n",
      "Epoch 33, Loss: 0.06465127319097519\n",
      "Epoch 34, Loss: 0.1265665590763092\n",
      "Epoch 35, Loss: 0.1468968540430069\n",
      "Epoch 36, Loss: 0.0979515016078949\n",
      "Epoch 37, Loss: 0.05578089505434036\n",
      "Epoch 38, Loss: 0.04873071238398552\n",
      "Epoch 39, Loss: 0.05922851711511612\n",
      "Epoch 40, Loss: 0.06831996142864227\n",
      "Epoch 41, Loss: 0.0682457908987999\n",
      "Epoch 42, Loss: 0.05900611728429794\n",
      "Epoch 43, Loss: 0.043497484177351\n",
      "Epoch 44, Loss: 0.0282695684581995\n",
      "Epoch 45, Loss: 0.01855139061808586\n",
      "Epoch 46, Loss: 0.01651403307914734\n",
      "Epoch 47, Loss: 0.020022869110107422\n",
      "Epoch 48, Loss: 0.02257930301129818\n",
      "Epoch 49, Loss: 0.019084511324763298\n",
      "Epoch 50, Loss: 0.012891697697341442\n",
      "Epoch 51, Loss: 0.006445066537708044\n",
      "Epoch 52, Loss: 0.005154229700565338\n",
      "Epoch 53, Loss: 0.008417252451181412\n",
      "Epoch 54, Loss: 0.010621780529618263\n",
      "Epoch 55, Loss: 0.009356592781841755\n",
      "Epoch 56, Loss: 0.00612374022603035\n",
      "Epoch 57, Loss: 0.003460145555436611\n",
      "Epoch 58, Loss: 0.0024633449502289295\n",
      "Epoch 59, Loss: 0.002990690292790532\n",
      "Epoch 60, Loss: 0.004019923508167267\n",
      "Epoch 61, Loss: 0.004286060109734535\n",
      "Epoch 62, Loss: 0.0032595701050013304\n",
      "Epoch 63, Loss: 0.0022518152836710215\n",
      "Epoch 64, Loss: 0.0020902876276522875\n",
      "Epoch 65, Loss: 0.002634766511619091\n",
      "Epoch 66, Loss: 0.00290072918869555\n",
      "Epoch 67, Loss: 0.0024865777231752872\n",
      "Epoch 68, Loss: 0.0016902273055166006\n",
      "Epoch 69, Loss: 0.001135950325988233\n",
      "Epoch 70, Loss: 0.0011268972884863615\n",
      "Epoch 71, Loss: 0.0014721452025696635\n",
      "Epoch 72, Loss: 0.0017188919009640813\n",
      "Epoch 73, Loss: 0.0015899691497907043\n",
      "Epoch 74, Loss: 0.0012250447180122137\n",
      "Epoch 75, Loss: 0.0009927029022946954\n",
      "Epoch 76, Loss: 0.0010063441004604101\n",
      "Epoch 77, Loss: 0.0009970881510525942\n",
      "Epoch 78, Loss: 0.0008254059939645231\n",
      "Epoch 79, Loss: 0.0006282908143475652\n",
      "Epoch 80, Loss: 0.0006928588263690472\n",
      "Epoch 81, Loss: 0.000818188302218914\n",
      "Epoch 82, Loss: 0.000739146547857672\n",
      "Epoch 83, Loss: 0.0006617092294618487\n",
      "Epoch 84, Loss: 0.0006733054178766906\n",
      "Epoch 85, Loss: 0.0006782354903407395\n",
      "Epoch 86, Loss: 0.0006002202280797064\n",
      "Epoch 87, Loss: 0.0005150247598066926\n",
      "Epoch 88, Loss: 0.0004939483478665352\n",
      "Epoch 89, Loss: 0.0005204294575378299\n",
      "Epoch 90, Loss: 0.00052222004160285\n",
      "Epoch 91, Loss: 0.00047529159928672016\n",
      "Epoch 92, Loss: 0.00043977127643302083\n",
      "Epoch 93, Loss: 0.0004333091201260686\n",
      "Epoch 94, Loss: 0.00042882864363491535\n",
      "Epoch 95, Loss: 0.00040722894482314587\n",
      "Epoch 96, Loss: 0.0003813125949818641\n",
      "Epoch 97, Loss: 0.0003712775942403823\n",
      "Epoch 98, Loss: 0.00037652652827091515\n",
      "Epoch 99, Loss: 0.0003764369757845998\n",
      "Epoch 100, Loss: 0.00035599380498752\n",
      "Epoch 101, Loss: 0.0003307888109702617\n",
      "Epoch 102, Loss: 0.0003184432571288198\n",
      "Epoch 103, Loss: 0.00031490737455897033\n",
      "Epoch 104, Loss: 0.00030954982503317297\n",
      "Epoch 105, Loss: 0.0002990280627273023\n",
      "Epoch 106, Loss: 0.00028816264239139855\n",
      "Epoch 107, Loss: 0.00028433665283955634\n",
      "Epoch 108, Loss: 0.00028131698491051793\n",
      "Epoch 109, Loss: 0.00027100558509118855\n",
      "Epoch 110, Loss: 0.00025696176453493536\n",
      "Epoch 111, Loss: 0.00024570419918745756\n",
      "Epoch 112, Loss: 0.00023907830473035574\n",
      "Epoch 113, Loss: 0.00023479772789869457\n",
      "Epoch 114, Loss: 0.00022801772865932435\n",
      "Epoch 115, Loss: 0.00022063679352868348\n",
      "Epoch 116, Loss: 0.00021490291692316532\n",
      "Epoch 117, Loss: 0.00021002058929298073\n",
      "Epoch 118, Loss: 0.0002044406719505787\n",
      "Epoch 119, Loss: 0.0001966162963071838\n",
      "Epoch 120, Loss: 0.00018968443328049034\n",
      "Epoch 121, Loss: 0.00018510034715291113\n",
      "Epoch 122, Loss: 0.0001810480171116069\n",
      "Epoch 123, Loss: 0.00017614317766856402\n",
      "Epoch 124, Loss: 0.0001701765286270529\n",
      "Epoch 125, Loss: 0.0001646909659029916\n",
      "Epoch 126, Loss: 0.00016061293717939407\n",
      "Epoch 127, Loss: 0.00015643020742572844\n",
      "Epoch 128, Loss: 0.00015154229186009616\n",
      "Epoch 129, Loss: 0.0001469710550736636\n",
      "Epoch 130, Loss: 0.0001430936681572348\n",
      "Epoch 131, Loss: 0.00013942355872131884\n",
      "Epoch 132, Loss: 0.00013524340465664864\n",
      "Epoch 133, Loss: 0.00013065322127658874\n",
      "Epoch 134, Loss: 0.00012652386794798076\n",
      "Epoch 135, Loss: 0.00012297531065996736\n",
      "Epoch 136, Loss: 0.00011948529572691768\n",
      "Epoch 137, Loss: 0.00011581733269849792\n",
      "Epoch 138, Loss: 0.00011221713066333905\n",
      "Epoch 139, Loss: 0.00010901741916313767\n",
      "Epoch 140, Loss: 0.00010590277815936133\n",
      "Epoch 141, Loss: 0.00010250231571262702\n",
      "Epoch 142, Loss: 9.905765182338655e-05\n",
      "Epoch 143, Loss: 9.59655808401294e-05\n",
      "Epoch 144, Loss: 9.308957669418305e-05\n",
      "Epoch 145, Loss: 9.02234751265496e-05\n",
      "Epoch 146, Loss: 8.729313412914053e-05\n",
      "Epoch 147, Loss: 8.450719178654253e-05\n",
      "Epoch 148, Loss: 8.190671360353008e-05\n",
      "Epoch 149, Loss: 7.937745976960286e-05\n",
      "Epoch 150, Loss: 7.687033212278038e-05\n",
      "Epoch 151, Loss: 7.44726276025176e-05\n",
      "Epoch 152, Loss: 7.221663690870628e-05\n",
      "Epoch 153, Loss: 7.004498183960095e-05\n",
      "Epoch 154, Loss: 6.782315904274583e-05\n",
      "Epoch 155, Loss: 6.567131640622392e-05\n",
      "Epoch 156, Loss: 6.363051215885207e-05\n",
      "Epoch 157, Loss: 6.165660306578502e-05\n",
      "Epoch 158, Loss: 5.9708807384595275e-05\n",
      "Epoch 159, Loss: 5.780953506473452e-05\n",
      "Epoch 160, Loss: 5.601360317086801e-05\n",
      "Epoch 161, Loss: 5.4310883569996804e-05\n",
      "Epoch 162, Loss: 5.265346771921031e-05\n",
      "Epoch 163, Loss: 5.103211879031733e-05\n",
      "Epoch 164, Loss: 4.949475624016486e-05\n",
      "Epoch 165, Loss: 4.804836862604134e-05\n",
      "Epoch 166, Loss: 4.6716224460396916e-05\n",
      "Epoch 167, Loss: 4.5236858568387106e-05\n",
      "Epoch 168, Loss: 4.388848174130544e-05\n",
      "Epoch 169, Loss: 4.261337744537741e-05\n",
      "Epoch 170, Loss: 4.1376406443305314e-05\n",
      "Epoch 171, Loss: 4.016303864773363e-05\n",
      "Epoch 172, Loss: 3.899814691976644e-05\n",
      "Epoch 173, Loss: 3.7894245906500146e-05\n",
      "Epoch 174, Loss: 3.6839650420006365e-05\n",
      "Epoch 175, Loss: 3.581842975108884e-05\n",
      "Epoch 176, Loss: 3.480864688754082e-05\n",
      "Epoch 177, Loss: 3.3832369808806106e-05\n",
      "Epoch 178, Loss: 3.2896783523028716e-05\n",
      "Epoch 179, Loss: 3.200212449883111e-05\n",
      "Epoch 180, Loss: 3.1160598155111074e-05\n",
      "Epoch 181, Loss: 3.035306690435391e-05\n",
      "Epoch 182, Loss: 2.9581149647128768e-05\n",
      "Epoch 183, Loss: 2.8841266612289473e-05\n",
      "Epoch 184, Loss: 2.8136835680925287e-05\n",
      "Epoch 185, Loss: 2.7469761334941722e-05\n",
      "Epoch 186, Loss: 2.6846058972296305e-05\n",
      "Epoch 187, Loss: 2.627606227179058e-05\n",
      "Epoch 188, Loss: 2.5794957764446735e-05\n",
      "Epoch 189, Loss: 2.5530716811772436e-05\n",
      "Epoch 190, Loss: 2.561744986451231e-05\n",
      "Epoch 191, Loss: 2.6252759198541753e-05\n",
      "Epoch 192, Loss: 2.8090777050238103e-05\n",
      "Epoch 193, Loss: 3.252438182244077e-05\n",
      "Epoch 194, Loss: 4.292525045457296e-05\n",
      "Epoch 195, Loss: 6.648824637522921e-05\n",
      "Epoch 196, Loss: 0.0001213322757394053\n",
      "Epoch 197, Loss: 0.00024106081400532275\n",
      "Epoch 198, Loss: 0.0005065817385911942\n",
      "Epoch 199, Loss: 0.0009711591410450637\n",
      "Epoch 200, Loss: 0.001706940121948719\n",
      "Test MSE: 0.011730441279224084\n",
      "Test RMSE: 0.10830716171714631\n",
      "Test MAE: 0.07709978499443057\n",
      "Test R²: 0.9874464952247917\n",
      "Test Explained Variance: 0.9930121375717267\n"
     ]
    }
   ],
   "source": [
    "import torch\n",
    "from torch import nn\n",
    "from sklearn.metrics import mean_squared_error\n",
    "from sklearn.metrics import mean_squared_error, mean_absolute_error, r2_score, explained_variance_score\n",
    "import math\n",
    "import matplotlib.pyplot as plt\n",
    "\n",
    "# 转换数据为PyTorch Tensors\n",
    "X_train_tensor = torch.tensor(X_train.values, dtype=torch.float32)\n",
    "X_test_tensor = torch.tensor(X_test.values, dtype=torch.float32)\n",
    "y_train_tensor = torch.tensor(y_train, dtype=torch.float32)\n",
    "y_test_tensor = torch.tensor(y_test, dtype=torch.float32)\n",
    "\n",
    "# 定义模型\n",
    "class BPNN(nn.Module):\n",
    "    def __init__(self):\n",
    "        super(BPNN, self).__init__()\n",
    "        self.network = nn.Sequential(\n",
    "            nn.Linear(6, 100),  # 确保input_size匹配您的特征数\n",
    "            nn.ReLU(),\n",
    "            nn.Linear(100, 100),\n",
    "            nn.ReLU(),\n",
    "            nn.Linear(100, 100),\n",
    "            nn.ReLU(),\n",
    "            nn.Linear(100, 100),\n",
    "            nn.ReLU(),\n",
    "            nn.Linear(100, 100),\n",
    "            nn.ReLU(),\n",
    "            nn.Linear(100, 100),\n",
    "            nn.ReLU(),\n",
    "            nn.Linear(100, 1)\n",
    "        )\n",
    "        \n",
    "    def forward(self, x):\n",
    "        return self.network(x)\n",
    "\n",
    "# 实例化模型\n",
    "model = BPNN()\n",
    "\n",
    "# 损失函数和优化器\n",
    "criterion = nn.MSELoss()\n",
    "optimizer = torch.optim.Adam(model.parameters(), lr=0.01)\n",
    "\n",
    "# 训练模型\n",
    "# 训练模型并记录损失\n",
    "losses = []\n",
    "epochs = 200\n",
    "for epoch in range(epochs):\n",
    "    model.train()\n",
    "    optimizer.zero_grad()\n",
    "    predictions = model(X_train_tensor)\n",
    "    loss = criterion(predictions, y_train_tensor)\n",
    "    loss.backward()\n",
    "    optimizer.step()\n",
    "    \n",
    "    losses.append(loss.item())\n",
    "    print(f'Epoch {epoch+1}, Loss: {loss.item()}')\n",
    "\n",
    "# 评估模型\n",
    "model.eval()\n",
    "with torch.no_grad():\n",
    "    predictions = model(X_test_tensor)\n",
    "    # 确保预测值和真实值的形状匹配\n",
    "    predictions_np = predictions.numpy().flatten()\n",
    "    y_test_np = y_test.flatten()\n",
    "\n",
    "    # 计算MSE\n",
    "    mse = mean_squared_error(y_test_np, predictions_np)\n",
    "    print(f'Test MSE: {mse}')\n",
    "\n",
    "    # 计算RMSE\n",
    "    rmse = math.sqrt(mse)\n",
    "    print(f'Test RMSE: {rmse}')\n",
    "\n",
    "    # 计算MAE\n",
    "    mae = mean_absolute_error(y_test_np, predictions_np)\n",
    "    print(f'Test MAE: {mae}')\n",
    "\n",
    "    # 计算R²分数\n",
    "    r2 = r2_score(y_test_np, predictions_np)\n",
    "    print(f'Test R²: {r2}')\n",
    "\n",
    "    # 计算解释方差分数\n",
    "    explained_variance = explained_variance_score(y_test_np, predictions_np)\n",
    "    print(f'Test Explained Variance: {explained_variance}')"
   ],
   "metadata": {
    "collapsed": false,
    "ExecuteTime": {
     "end_time": "2024-03-22T11:43:45.865779100Z",
     "start_time": "2024-03-22T11:43:45.227776300Z"
    }
   },
   "id": "1679ca92a7639285"
  },
  {
   "cell_type": "markdown",
   "source": [
    "绘制损失曲线"
   ],
   "metadata": {
    "collapsed": false
   },
   "id": "b35a683f55baef0e"
  },
  {
   "cell_type": "code",
   "execution_count": 83,
   "outputs": [
    {
     "data": {
      "text/plain": "<Figure size 640x480 with 1 Axes>",
      "image/png": "[encoded data removed]"
     },
     "metadata": {},
     "output_type": "display_data"
    }
   ],
   "source": [
    "# 绘制损失曲线\n",
    "plt.plot(range(1, epochs + 1), losses, label='Train Loss')\n",
    "plt.xlabel('Epoch')\n",
    "plt.ylabel('Loss')\n",
    "plt.title('Loss During Training')\n",
    "plt.legend()\n",
    "plt.savefig('./结果/loss.png')\n",
    "plt.show()"
   ],
   "metadata": {
    "collapsed": false,
    "ExecuteTime": {
     "end_time": "2024-03-22T11:43:49.179133100Z",
     "start_time": "2024-03-22T11:43:48.910907100Z"
    }
   },
   "id": "26d925c904d9fba8"
  },
  {
   "cell_type": "markdown",
   "source": [
    "转换为原始尺度的数据"
   ],
   "metadata": {
    "collapsed": false
   },
   "id": "4f90327759c4b49b"
  },
  {
   "cell_type": "code",
   "execution_count": 84,
   "outputs": [],
   "source": [
    "import numpy\n",
    "# 将预测结果转换回原始尺度\n",
    "predictions_original = scaler_Y.inverse_transform(predictions.numpy())\n",
    "y_test_original = scaler_Y.inverse_transform(y_test)"
   ],
   "metadata": {
    "collapsed": false,
    "ExecuteTime": {
     "end_time": "2024-03-22T11:43:49.867074100Z",
     "start_time": "2024-03-22T11:43:49.848377Z"
    }
   },
   "id": "f1b7dc94a577dd17"
  },
  {
   "cell_type": "markdown",
   "source": [
    "结果可视化"
   ],
   "metadata": {
    "collapsed": false
   },
   "id": "3538d9b99bbc49c9"
  },
  {
   "cell_type": "code",
   "execution_count": 85,
   "outputs": [
    {
     "data": {
      "text/plain": "<Figure size 1000x600 with 1 Axes>",
      "image/png": "[encoded data removed]"
     },
     "metadata": {},
     "output_type": "display_data"
    }
   ],
   "source": [
    "# 绘制真实值VS预测值散点图\n",
    "plt.figure(figsize=(10, 6))\n",
    "plt.scatter(y_test_original, predictions_original, color='green', marker='o', alpha=0.5, facecolors='none')\n",
    "plt.plot(\n",
    "    [min(y_test_original.min(), predictions_original.min()), max(y_test_original.max(), predictions_original.max())],\n",
    "    [min(y_test_original.min(), predictions_original.min()), max(y_test_original.max(), predictions_original.max())],\n",
    "    color='red', linestyle='--')  # 添加红色对角线\n",
    "plt.title('Actual vs Predicted Values Scatter Plot')\n",
    "plt.xlabel('Actual Values')\n",
    "plt.ylabel('Predicted Values')\n",
    "plt.grid(True)\n",
    "plt.savefig('./结果/真实值VS预测值.png')\n",
    "plt.show()\n"
   ],
   "metadata": {
    "collapsed": false,
    "ExecuteTime": {
     "end_time": "2024-03-22T11:43:53.111277100Z",
     "start_time": "2024-03-22T11:43:52.851589100Z"
    }
   },
   "id": "173214ecbbbfef41"
  },
  {
   "cell_type": "markdown",
   "source": [
    "定义GM(1,1)模型"
   ],
   "metadata": {
    "collapsed": false
   },
   "id": "835013086fc7cdb"
  },
  {
   "cell_type": "code",
   "execution_count": 86,
   "outputs": [
    {
     "name": "stdout",
     "output_type": "stream",
     "text": [
      "GM输出矩阵：\n",
      " [[-0.30052689 -0.20200896 -0.29521875 -0.3430415  -0.01936633 -0.3338412 ]\n",
      " [-0.29503615 -0.19881786 -0.28957271 -0.3359875  -0.01932103 -0.32688722]\n",
      " [-0.28964573 -0.19567716 -0.28403465 -0.32907856 -0.01927584 -0.32007809]\n",
      " [-0.28435379 -0.19258608 -0.2786025  -0.32231168 -0.01923074 -0.3134108 ]\n",
      " [-0.27915854 -0.18954382 -0.27327425 -0.31568396 -0.01918576 -0.30688239]\n",
      " [-0.27405821 -0.18654963 -0.2680479  -0.30919252 -0.01914088 -0.30048997]\n",
      " [-0.26905106 -0.18360273 -0.2629215  -0.30283456 -0.0190961  -0.29423071]\n",
      " [-0.2641354  -0.18070238 -0.25789314 -0.29660735 -0.01905143 -0.28810182]\n",
      " [-0.25930955 -0.17784785 -0.25296095 -0.29050818 -0.01900687 -0.2821006 ]\n",
      " [-0.25457186 -0.17503842 -0.24812309 -0.28453443 -0.01896241 -0.27622439]]\n",
      "----------------------------------\n",
      "GM输出矩阵已保存到 \"./结果/predictions_matrix.csv\"\n"
     ]
    },
    {
     "name": "stderr",
     "output_type": "stream",
     "text": [
      "C:\\Users\\Ricco\\AppData\\Local\\Temp\\ipykernel_10152\\4178286721.py:16: DeprecationWarning: Conversion of an array with ndim > 0 to a scalar is deprecated, and will error in future. Ensure you extract a single element from your array before performing this operation. (Deprecated NumPy 1.25.)\n",
      "  B[i - 1, 0] = -0.5 * (X_cumsum[i] + X_cumsum[i - 1])\n",
      "C:\\Users\\Ricco\\AppData\\Local\\Temp\\ipykernel_10152\\4178286721.py:18: DeprecationWarning: Conversion of an array with ndim > 0 to a scalar is deprecated, and will error in future. Ensure you extract a single element from your array before performing this operation. (Deprecated NumPy 1.25.)\n",
      "  Y[i - 1, 0] = X[i]\n"
     ]
    }
   ],
   "source": [
    "import numpy as np\n",
    "\n",
    "# 定义GM(1,1)模型\n",
    "class GM11Model:\n",
    "    def __init__(self):\n",
    "        self.alpha = None\n",
    "        self.u = None\n",
    "\n",
    "    def fit(self, X):\n",
    "        # 累加生成\n",
    "        X_cumsum = np.cumsum(X, axis=0)\n",
    "        # 建立数据矩阵B和数据向量Y\n",
    "        B = np.empty((len(X) - 1, 2))\n",
    "        Y = np.empty((len(X) - 1, 1))\n",
    "        for i in range(1, len(X)):\n",
    "            B[i - 1, 0] = -0.5 * (X_cumsum[i] + X_cumsum[i - 1])\n",
    "            B[i - 1, 1] = 1\n",
    "            Y[i - 1, 0] = X[i]\n",
    "        # 参数估计\n",
    "        self.alpha, self.u = np.linalg.lstsq(B, Y, rcond=None)[0].flatten()\n",
    "\n",
    "    def predict(self, n):\n",
    "        # 预测n个数据\n",
    "        X_pred = np.zeros(n)\n",
    "        for i in range(n):\n",
    "            X_pred[i] = (self.u / self.alpha) * (np.exp(self.alpha * (i + 1)) - np.exp(self.alpha * i))\n",
    "        return X_pred\n",
    "\n",
    "# 定义一个函数来对单个特征列应用GM(1,1)模型并进行预测\n",
    "def gm11_predict(X, n_pred):\n",
    "    model = GM11Model()\n",
    "    model.fit(X.reshape(-1, 1))\n",
    "    return model.predict(n_pred)\n",
    "\n",
    "# 预测未来5个时间点的值\n",
    "n_pred = 10\n",
    "predictions = []\n",
    "\n",
    "# 对数据集中的每个特征X1到X6进行GM(1,1)预测\n",
    "for column in features_standardized_df.columns:\n",
    "    pred = gm11_predict(features_standardized_df[column].values, n_pred)\n",
    "    predictions.append(pred)\n",
    "\n",
    "# 将预测结果转换为矩阵\n",
    "predictions_matrix = np.array(predictions).T  # 转置以匹配预期的格式\n",
    "\n",
    "print('GM输出矩阵：\\n', predictions_matrix)\n",
    "print(\"----------------------------------\")\n",
    "# 创建一个DataFrame来存储矩阵\n",
    "predictions_matrix_df = pd.DataFrame(predictions_matrix)\n",
    "\n",
    "# 指定保存路径（请根据您的实际需要调整文件路径和名称）\n",
    "save_path_matrix = './结果/predictions_matrix.csv'\n",
    "\n",
    "# 保存为CSV\n",
    "predictions_matrix_df.to_csv(save_path_matrix, index=False)\n",
    "\n",
    "print(f'GM输出矩阵已保存到 \"{save_path_matrix}\"')"
   ],
   "metadata": {
    "collapsed": false,
    "ExecuteTime": {
     "end_time": "2024-03-22T11:43:55.126152Z",
     "start_time": "2024-03-22T11:43:55.070893200Z"
    }
   },
   "id": "4f9f42a771da76b4"
  },
  {
   "cell_type": "markdown",
   "source": [
    "运用GM（1，1）模型输出的特征导入到BP神经网络中，进行预测"
   ],
   "metadata": {
    "collapsed": false
   },
   "id": "912e7ab0ca5c9942"
  },
  {
   "cell_type": "code",
   "execution_count": 87,
   "outputs": [
    {
     "name": "stdout",
     "output_type": "stream",
     "text": [
      "未来10年数据:\n",
      " [[1.2344444e+09]\n",
      " [1.2332785e+09]\n",
      " [1.2321861e+09]\n",
      " [1.2311711e+09]\n",
      " [1.2301974e+09]\n",
      " [1.2292193e+09]\n",
      " [1.2282258e+09]\n",
      " [1.2272489e+09]\n",
      " [1.2262369e+09]\n",
      " [1.2252448e+09]]\n",
      "----------------------------------\n",
      "未来10年的预测数据已保存到 \"./结果/predicted_values.csv\"\n"
     ]
    }
   ],
   "source": [
    "# 确保 predictions_matrix 来自之前的步骤\n",
    "predictions_tensor = torch.tensor(predictions_matrix, dtype=torch.float32)\n",
    "\n",
    "# 使用模型进行预测\n",
    "model.eval()  # 确保模型处于评估模式\n",
    "with torch.no_grad():  # 确保在这个过程中不计算梯度\n",
    "    predictions_tensor = model(predictions_tensor)\n",
    "\n",
    "# 将PyTorch张量转换为NumPy数组\n",
    "predictions_numpy = predictions_tensor.numpy()\n",
    "\n",
    "# 反标准化预测值\n",
    "predictions_future = scaler_Y.inverse_transform(predictions_numpy)\n",
    "\n",
    "print(f\"未来{n_pred}年数据:\\n\", predictions_future)\n",
    "print(\"----------------------------------\")\n",
    "# 创建一个DataFrame来存储预测值\n",
    "predictions_df = pd.DataFrame(predictions_future, columns=['Predicted Values'])\n",
    "\n",
    "# 指定保存路径（请根据您的实际需要调整文件路径和名称）\n",
    "save_path = './结果/predicted_values.csv'\n",
    "\n",
    "# 保存为CSV\n",
    "predictions_df.to_csv(save_path, index=False)\n",
    "\n",
    "print(f'未来{n_pred}年的预测数据已保存到 \"{save_path}\"')"
   ],
   "metadata": {
    "collapsed": false,
    "ExecuteTime": {
     "end_time": "2024-03-22T11:43:56.961519300Z",
     "start_time": "2024-03-22T11:43:56.934523400Z"
    }
   },
   "id": "d2c9b4c07d00ed7"
  },
  {
   "cell_type": "markdown",
   "source": [
    "绘制预测曲线"
   ],
   "metadata": {
    "collapsed": false
   },
   "id": "a0fc438248e61695"
  },
  {
   "cell_type": "code",
   "execution_count": 88,
   "outputs": [
    {
     "data": {
      "text/plain": "<Figure size 1000x600 with 1 Axes>",
      "image/png": "[encoded data removed]"
     },
     "metadata": {},
     "output_type": "display_data"
    }
   ],
   "source": [
    "# 绘制预测结果的折线图\n",
    "plt.figure(figsize=(10, 6))\n",
    "plt.plot(predictions_future, label='Predicted Values', color='green', marker='o', linestyle='--')\n",
    "plt.title('Predicted Values Over Time')\n",
    "plt.xlabel('Time Point')\n",
    "plt.ylabel('Predicted Value')\n",
    "plt.legend()\n",
    "plt.grid(True)\n",
    "plt.savefig(f'./结果/未来{n_pred}年数据折线图.png')\n",
    "plt.show()\n"
   ],
   "metadata": {
    "collapsed": false,
    "ExecuteTime": {
     "end_time": "2024-03-22T11:43:58.688719300Z",
     "start_time": "2024-03-22T11:43:58.363280800Z"
    }
   },
   "id": "55b5930cb7a3a1e7"
  },
  {
   "cell_type": "code",
   "execution_count": null,
   "outputs": [],
   "source": [],
   "metadata": {
    "collapsed": false
   },
   "id": "4da0337b3df59603"
  }
 ],
 "metadata": {
  "kernelspec": {
   "display_name": "Python 3",
   "language": "python",
   "name": "python3"
  },
  "language_info": {
   "codemirror_mode": {
    "name": "ipython",
    "version": 2
   },
   "file_extension": ".py",
   "mimetype": "text/x-python",
   "name": "python",
   "nbconvert_exporter": "python",
   "pygments_lexer": "ipython2",
   "version": "2.7.6"
  }
 },
 "nbformat": 4,
 "nbformat_minor": 5
}
